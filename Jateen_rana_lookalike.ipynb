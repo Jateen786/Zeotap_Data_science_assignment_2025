{
 "cells": [
  {
   "cell_type": "code",
   "execution_count": 1,
   "id": "2e5f63da",
   "metadata": {},
   "outputs": [],
   "source": [
    "import pandas as pd\n",
    "from sklearn.metrics.pairwise import cosine_similarity\n",
    "from sklearn.preprocessing import StandardScaler"
   ]
  },
  {
   "cell_type": "code",
   "execution_count": 2,
   "id": "e7998449",
   "metadata": {},
   "outputs": [],
   "source": [
    "transactions = pd.read_csv('C:/Users/91701/Downloads/Transactions.csv')\n",
    "products = pd.read_csv('C:/Users/91701/Downloads/Products.csv')\n",
    "customers = pd.read_csv('C:/Users/91701/Downloads/Customers.csv')"
   ]
  },
  {
   "cell_type": "code",
   "execution_count": 3,
   "id": "a55b4718",
   "metadata": {},
   "outputs": [],
   "source": [
    "transactions['TransactionDate'] = pd.to_datetime(transactions['TransactionDate'])\n",
    "customers['SignupDate'] = pd.to_datetime(customers['SignupDate'])"
   ]
  },
  {
   "cell_type": "code",
   "execution_count": 4,
   "id": "4bb3e785",
   "metadata": {},
   "outputs": [],
   "source": [
    "transactions_products = pd.merge(transactions, products, on='ProductID', how='left')\n",
    "full_data = pd.merge(transactions_products, customers, on='CustomerID', how='left')"
   ]
  },
  {
   "cell_type": "code",
   "execution_count": 5,
   "id": "b20d56b5",
   "metadata": {},
   "outputs": [],
   "source": [
    "customer_features = full_data.groupby('CustomerID').agg({\n",
    "    'Quantity': 'sum',  # Total quantity purchased\n",
    "    'TotalValue': 'sum',  # Total spending\n",
    "    'Category': lambda x: x.value_counts().idxmax(),  # Most purchased category\n",
    "    'Region': 'first',  # Region of the customer\n",
    "    'SignupDate': 'first'  # Signup date\n",
    "}).reset_index()"
   ]
  },
  {
   "cell_type": "code",
   "execution_count": 6,
   "id": "0a6770b1",
   "metadata": {},
   "outputs": [],
   "source": [
    "customer_features = pd.get_dummies(customer_features, columns=['Category', 'Region'], drop_first=True)"
   ]
  },
  {
   "cell_type": "code",
   "execution_count": 7,
   "id": "c72b6f58",
   "metadata": {},
   "outputs": [],
   "source": [
    "customer_features['SignupYear'] = customer_features['SignupDate'].dt.year\n",
    "customer_features.drop(columns=['SignupDate'], inplace=True)"
   ]
  },
  {
   "cell_type": "code",
   "execution_count": 8,
   "id": "61c25dd9",
   "metadata": {},
   "outputs": [],
   "source": [
    "scaler = StandardScaler()\n",
    "numerical_features = ['Quantity', 'TotalValue', 'SignupYear']\n",
    "customer_features[numerical_features] = scaler.fit_transform(customer_features[numerical_features])\n"
   ]
  },
  {
   "cell_type": "code",
   "execution_count": 9,
   "id": "166ba343",
   "metadata": {},
   "outputs": [],
   "source": [
    "customer_ids = customer_features['CustomerID']\n",
    "feature_matrix = customer_features.drop(columns=['CustomerID']).values\n",
    "similarity_matrix = cosine_similarity(feature_matrix)\n"
   ]
  },
  {
   "cell_type": "code",
   "execution_count": 10,
   "id": "6a00a708",
   "metadata": {},
   "outputs": [],
   "source": [
    "def get_top_similar(customers, similarity_matrix, top_n=3):\n",
    "    lookalike_dict = {}\n",
    "    for idx, customer_id in enumerate(customers):\n",
    "        similarities = list(enumerate(similarity_matrix[idx]))\n",
    "        similarities = sorted(similarities, key=lambda x: x[1], reverse=True)  # Sort by similarity\n",
    "        top_similar = [(customers[i], score) for i, score in similarities[1:top_n+1]]  # Exclude self-similarity\n",
    "        lookalike_dict[customer_id] = top_similar\n",
    "    return lookalike_dict\n",
    "\n",
    "lookalike_dict = get_top_similar(customer_ids, similarity_matrix, top_n=3)"
   ]
  },
  {
   "cell_type": "code",
   "execution_count": 11,
   "id": "3b5051af",
   "metadata": {},
   "outputs": [],
   "source": [
    "lookalike_list = []\n",
    "for customer_id in customer_ids[:20]:\n",
    "    top_similars = lookalike_dict[customer_id]\n",
    "    lookalike_list.append({\n",
    "        \"CustomerID\": customer_id,\n",
    "        \"Lookalikes\": [\n",
    "            {\"SimilarCustomerID\": sim[0], \"SimilarityScore\": sim[1]} for sim in top_similars\n",
    "        ]\n",
    "    })"
   ]
  },
  {
   "cell_type": "code",
   "execution_count": 12,
   "id": "7e658f13",
   "metadata": {},
   "outputs": [],
   "source": [
    "lookalike_df = pd.DataFrame({\n",
    "    \"CustomerID\": [entry['CustomerID'] for entry in lookalike_list],\n",
    "    \"Lookalikes\": [entry['Lookalikes'] for entry in lookalike_list]\n",
    "})"
   ]
  },
  {
   "cell_type": "code",
   "execution_count": 16,
   "id": "b812a27a",
   "metadata": {},
   "outputs": [],
   "source": [
    "lookalike_df.to_csv(\"Lookalike.csv\", index=False)\n"
   ]
  },
  {
   "cell_type": "code",
   "execution_count": 17,
   "id": "6b741d91",
   "metadata": {},
   "outputs": [
    {
     "data": {
      "text/html": [
       "<div>\n",
       "<style scoped>\n",
       "    .dataframe tbody tr th:only-of-type {\n",
       "        vertical-align: middle;\n",
       "    }\n",
       "\n",
       "    .dataframe tbody tr th {\n",
       "        vertical-align: top;\n",
       "    }\n",
       "\n",
       "    .dataframe thead th {\n",
       "        text-align: right;\n",
       "    }\n",
       "</style>\n",
       "<table border=\"1\" class=\"dataframe\">\n",
       "  <thead>\n",
       "    <tr style=\"text-align: right;\">\n",
       "      <th></th>\n",
       "      <th>CustomerID</th>\n",
       "      <th>Lookalikes</th>\n",
       "    </tr>\n",
       "  </thead>\n",
       "  <tbody>\n",
       "    <tr>\n",
       "      <th>0</th>\n",
       "      <td>C0001</td>\n",
       "      <td>[{'SimilarCustomerID': 'C0184', 'SimilaritySco...</td>\n",
       "    </tr>\n",
       "    <tr>\n",
       "      <th>1</th>\n",
       "      <td>C0002</td>\n",
       "      <td>[{'SimilarCustomerID': 'C0106', 'SimilaritySco...</td>\n",
       "    </tr>\n",
       "    <tr>\n",
       "      <th>2</th>\n",
       "      <td>C0003</td>\n",
       "      <td>[{'SimilarCustomerID': 'C0076', 'SimilaritySco...</td>\n",
       "    </tr>\n",
       "    <tr>\n",
       "      <th>3</th>\n",
       "      <td>C0004</td>\n",
       "      <td>[{'SimilarCustomerID': 'C0165', 'SimilaritySco...</td>\n",
       "    </tr>\n",
       "    <tr>\n",
       "      <th>4</th>\n",
       "      <td>C0005</td>\n",
       "      <td>[{'SimilarCustomerID': 'C0007', 'SimilaritySco...</td>\n",
       "    </tr>\n",
       "    <tr>\n",
       "      <th>5</th>\n",
       "      <td>C0006</td>\n",
       "      <td>[{'SimilarCustomerID': 'C0126', 'SimilaritySco...</td>\n",
       "    </tr>\n",
       "    <tr>\n",
       "      <th>6</th>\n",
       "      <td>C0007</td>\n",
       "      <td>[{'SimilarCustomerID': 'C0005', 'SimilaritySco...</td>\n",
       "    </tr>\n",
       "    <tr>\n",
       "      <th>7</th>\n",
       "      <td>C0008</td>\n",
       "      <td>[{'SimilarCustomerID': 'C0136', 'SimilaritySco...</td>\n",
       "    </tr>\n",
       "    <tr>\n",
       "      <th>8</th>\n",
       "      <td>C0009</td>\n",
       "      <td>[{'SimilarCustomerID': 'C0061', 'SimilaritySco...</td>\n",
       "    </tr>\n",
       "    <tr>\n",
       "      <th>9</th>\n",
       "      <td>C0010</td>\n",
       "      <td>[{'SimilarCustomerID': 'C0062', 'SimilaritySco...</td>\n",
       "    </tr>\n",
       "    <tr>\n",
       "      <th>10</th>\n",
       "      <td>C0011</td>\n",
       "      <td>[{'SimilarCustomerID': 'C0147', 'SimilaritySco...</td>\n",
       "    </tr>\n",
       "    <tr>\n",
       "      <th>11</th>\n",
       "      <td>C0012</td>\n",
       "      <td>[{'SimilarCustomerID': 'C0195', 'SimilaritySco...</td>\n",
       "    </tr>\n",
       "    <tr>\n",
       "      <th>12</th>\n",
       "      <td>C0013</td>\n",
       "      <td>[{'SimilarCustomerID': 'C0087', 'SimilaritySco...</td>\n",
       "    </tr>\n",
       "    <tr>\n",
       "      <th>13</th>\n",
       "      <td>C0014</td>\n",
       "      <td>[{'SimilarCustomerID': 'C0080', 'SimilaritySco...</td>\n",
       "    </tr>\n",
       "    <tr>\n",
       "      <th>14</th>\n",
       "      <td>C0015</td>\n",
       "      <td>[{'SimilarCustomerID': 'C0094', 'SimilaritySco...</td>\n",
       "    </tr>\n",
       "    <tr>\n",
       "      <th>15</th>\n",
       "      <td>C0016</td>\n",
       "      <td>[{'SimilarCustomerID': 'C0154', 'SimilaritySco...</td>\n",
       "    </tr>\n",
       "    <tr>\n",
       "      <th>16</th>\n",
       "      <td>C0017</td>\n",
       "      <td>[{'SimilarCustomerID': 'C0041', 'SimilaritySco...</td>\n",
       "    </tr>\n",
       "    <tr>\n",
       "      <th>17</th>\n",
       "      <td>C0018</td>\n",
       "      <td>[{'SimilarCustomerID': 'C0046', 'SimilaritySco...</td>\n",
       "    </tr>\n",
       "    <tr>\n",
       "      <th>18</th>\n",
       "      <td>C0019</td>\n",
       "      <td>[{'SimilarCustomerID': 'C0132', 'SimilaritySco...</td>\n",
       "    </tr>\n",
       "    <tr>\n",
       "      <th>19</th>\n",
       "      <td>C0020</td>\n",
       "      <td>[{'SimilarCustomerID': 'C0157', 'SimilaritySco...</td>\n",
       "    </tr>\n",
       "  </tbody>\n",
       "</table>\n",
       "</div>"
      ],
      "text/plain": [
       "   CustomerID                                         Lookalikes\n",
       "0       C0001  [{'SimilarCustomerID': 'C0184', 'SimilaritySco...\n",
       "1       C0002  [{'SimilarCustomerID': 'C0106', 'SimilaritySco...\n",
       "2       C0003  [{'SimilarCustomerID': 'C0076', 'SimilaritySco...\n",
       "3       C0004  [{'SimilarCustomerID': 'C0165', 'SimilaritySco...\n",
       "4       C0005  [{'SimilarCustomerID': 'C0007', 'SimilaritySco...\n",
       "5       C0006  [{'SimilarCustomerID': 'C0126', 'SimilaritySco...\n",
       "6       C0007  [{'SimilarCustomerID': 'C0005', 'SimilaritySco...\n",
       "7       C0008  [{'SimilarCustomerID': 'C0136', 'SimilaritySco...\n",
       "8       C0009  [{'SimilarCustomerID': 'C0061', 'SimilaritySco...\n",
       "9       C0010  [{'SimilarCustomerID': 'C0062', 'SimilaritySco...\n",
       "10      C0011  [{'SimilarCustomerID': 'C0147', 'SimilaritySco...\n",
       "11      C0012  [{'SimilarCustomerID': 'C0195', 'SimilaritySco...\n",
       "12      C0013  [{'SimilarCustomerID': 'C0087', 'SimilaritySco...\n",
       "13      C0014  [{'SimilarCustomerID': 'C0080', 'SimilaritySco...\n",
       "14      C0015  [{'SimilarCustomerID': 'C0094', 'SimilaritySco...\n",
       "15      C0016  [{'SimilarCustomerID': 'C0154', 'SimilaritySco...\n",
       "16      C0017  [{'SimilarCustomerID': 'C0041', 'SimilaritySco...\n",
       "17      C0018  [{'SimilarCustomerID': 'C0046', 'SimilaritySco...\n",
       "18      C0019  [{'SimilarCustomerID': 'C0132', 'SimilaritySco...\n",
       "19      C0020  [{'SimilarCustomerID': 'C0157', 'SimilaritySco..."
      ]
     },
     "execution_count": 17,
     "metadata": {},
     "output_type": "execute_result"
    }
   ],
   "source": [
    "lookalike_df.head(20)"
   ]
  }
 ],
 "metadata": {
  "kernelspec": {
   "display_name": "Python 3 (ipykernel)",
   "language": "python",
   "name": "python3"
  },
  "language_info": {
   "codemirror_mode": {
    "name": "ipython",
    "version": 3
   },
   "file_extension": ".py",
   "mimetype": "text/x-python",
   "name": "python",
   "nbconvert_exporter": "python",
   "pygments_lexer": "ipython3",
   "version": "3.7.0"
  }
 },
 "nbformat": 4,
 "nbformat_minor": 5
}
